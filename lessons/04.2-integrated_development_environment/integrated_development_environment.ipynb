{
 "cells": [
  {
   "cell_type": "markdown",
   "metadata": {
    "slideshow": {
     "slide_type": "slide"
    }
   },
   "source": [
    "# IDE: Integrated Development Environment"
   ]
  },
  {
   "cell_type": "markdown",
   "metadata": {
    "slideshow": {
     "slide_type": "slide"
    }
   },
   "source": [
    "Most common examples:\n",
    "* VSCode (comes with Anaconda)\n",
    "* Atom\n",
    "* PyCharm\n",
    "* Spyder* (comes with Anaconda)\n",
    "* Sublime*"
   ]
  },
  {
   "cell_type": "markdown",
   "metadata": {
    "slideshow": {
     "slide_type": "slide"
    }
   },
   "source": [
    "# What are we integrating?\n",
    "* Documentation\n",
    "* Linting (how code runs)\n",
    "* Formatting (how code appears)\n",
    "* Terminal/Debugging\n",
    "* Version Control\n",
    "* Latex\n",
    "* Spell Checker"
   ]
  },
  {
   "cell_type": "markdown",
   "metadata": {
    "slideshow": {
     "slide_type": "slide"
    }
   },
   "source": [
    "# Documentation\n",
    "* tab completion \n",
    "* show options\n",
    "* show documentation (i or hover over function)\n",
    "\n",
    "## Example\n",
    "```\n",
    "np.median\n",
    "```"
   ]
  },
  {
   "cell_type": "markdown",
   "metadata": {
    "slideshow": {
     "slide_type": "slide"
    }
   },
   "source": [
    "# Linting (how code runs)\n",
    "1. Default: pylint (conda install if needed) \n",
    "2. open the Command Palette (shift+command+P)\n",
    "3. type: Python: Enable Linting\n",
    "4. select \"on\"\n",
    "\n",
    "## Example\n",
    "* Try calling a numpy function when you haven't imported numpy and save   \n",
    "* Hover over red sqiggle to see error"
   ]
  },
  {
   "cell_type": "markdown",
   "metadata": {
    "slideshow": {
     "slide_type": "slide"
    }
   },
   "source": [
    "# Formatting \n",
    "1. install autopep8, black, or yapf\n",
    "2. Find settings:\n",
    "    - Windows ```%APPDATA%\\Code\\User\\settings.json```\n",
    "    - macOS ```$HOME/Library/Application Support/Code/User/settings.json```\n",
    "    - Linux ```$HOME/.config/Code/User/settings.json```\n",
    "3. Add to file: ```python.formatting.blackPath=<your path>``` where your path should be similar to the python.pythonPath variable but replace python with black\n",
    "4. In settings--> Text Editor --> Formatting --> your choice\n",
    "    \n",
    "## Example\n",
    "Define a function with spaces around the equals sign of a keyword argument"
   ]
  },
  {
   "cell_type": "markdown",
   "metadata": {
    "slideshow": {
     "slide_type": "slide"
    }
   },
   "source": [
    "# Terminal/Debugging\n",
    "\n",
    "* breakpoints: pause execution without modifying code\n",
    "* see variables defined\n",
    "* run subsections of code\n",
    "* prototype code\n",
    "\n",
    "## Example:\n",
    "1. Set a breakpoint by clicked to the left of the line numbers (red dot appears)\n",
    "2. Click on left panel play+bug icon (if no panel view --> appearances --> show activity bar)\n",
    "3. Select Run and Debug"
   ]
  },
  {
   "cell_type": "markdown",
   "metadata": {
    "slideshow": {
     "slide_type": "slide"
    }
   },
   "source": [
    "# Version Control\n",
    "* GUI interface to add and commit \n",
    "* access via activity bar (one circle branching to two circles)\n",
    "\n",
    "## Example:\n",
    "1. make a change\n",
    "2. view diff\n",
    "3. add\n",
    "4. commit\n",
    "5. push/pull"
   ]
  },
  {
   "cell_type": "markdown",
   "metadata": {
    "slideshow": {
     "slide_type": "slide"
    }
   },
   "source": [
    "# More (Extensions):\n",
    "* Spell checker (I have spell right)\n",
    "* Latex (I have Latex Workshop)\n",
    "* Markdown"
   ]
  }
 ],
 "metadata": {
  "celltoolbar": "Slideshow",
  "kernelspec": {
   "display_name": "Python (py37)",
   "language": "python",
   "name": "py37"
  },
  "language_info": {
   "codemirror_mode": {
    "name": "ipython",
    "version": 3
   },
   "file_extension": ".py",
   "mimetype": "text/x-python",
   "name": "python",
   "nbconvert_exporter": "python",
   "pygments_lexer": "ipython3",
   "version": "3.7.3"
  }
 },
 "nbformat": 4,
 "nbformat_minor": 2
}
