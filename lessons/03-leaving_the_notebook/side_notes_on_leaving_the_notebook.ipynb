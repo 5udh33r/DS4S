{
 "cells": [
  {
   "cell_type": "markdown",
   "metadata": {
    "slideshow": {
     "slide_type": "slide"
    }
   },
   "source": [
    "# Ways to have your code in your path:\n",
    "* Be in the same directory as your file (this is what we will do today)\n",
    "* Add the directory containing the file to your PATH\n",
    "* Make your file into a package and install it (note: the book has a chapter on this and we may touch on it when Brent guess lectures)"
   ]
  },
  {
   "cell_type": "markdown",
   "metadata": {
    "slideshow": {
     "slide_type": "slide"
    }
   },
   "source": [
    "# Sidenote: Where do your tests go?\n",
    "* Easiest:\n",
    "    - in a file next to your code with a filename that starts with the word test\n",
    "* More advanced (when packaging):\n",
    "    - Project level directory\n",
    "        * code/src directory\n",
    "        * tests directory"
   ]
  },
  {
   "cell_type": "code",
   "execution_count": null,
   "metadata": {},
   "outputs": [],
   "source": []
  }
 ],
 "metadata": {
  "celltoolbar": "Slideshow",
  "kernelspec": {
   "display_name": "Python (py37)",
   "language": "python",
   "name": "py37"
  },
  "language_info": {
   "codemirror_mode": {
    "name": "ipython",
    "version": 3
   },
   "file_extension": ".py",
   "mimetype": "text/x-python",
   "name": "python",
   "nbconvert_exporter": "python",
   "pygments_lexer": "ipython3",
   "version": "3.7.3"
  }
 },
 "nbformat": 4,
 "nbformat_minor": 2
}
